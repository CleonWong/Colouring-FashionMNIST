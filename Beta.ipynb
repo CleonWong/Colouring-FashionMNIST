{
 "cells": [
  {
   "cell_type": "code",
   "execution_count": 1,
   "metadata": {},
   "outputs": [],
   "source": [
    "# General libraries\n",
    "import os\n",
    "import numpy as np\n",
    "import matplotlib.pyplot as plt\n",
    "import tensorflow as tf\n",
    "# For preprocessing\n",
    "from tensorflow.keras.preprocessing.image import load_img, img_to_array\n",
    "from skimage.transform import resize\n",
    "from skimage.color import rgb2lab, lab2rgb, rgb2gray\n",
    "# For NN\n",
    "from tensorflow.keras.models import Sequential\n",
    "from tensorflow.keras.layers import InputLayer, Conv2D, UpSampling2D\n",
    "from tensorflow.keras.callbacks import EarlyStopping\n",
    "# For output image\n",
    "from skimage.io import imsave\n",
    "\n",
    "%matplotlib inline"
   ]
  },
  {
   "cell_type": "code",
   "execution_count": null,
   "metadata": {},
   "outputs": [],
   "source": [
    "# Get images\n",
    "train_input_files = []\n",
    "train_input_dir = \"/Users/cleonwong/Desktop/Code/Colouring-FashionMNIST/Images/Train\"\n",
    "\n",
    "for (dirpath, dirnames, filenames) in os.walk(train_input_dir):\n",
    "    train_input_files.extend(filenames)\n",
    "    break\n",
    "    \n",
    "train_input = []\n",
    "for filename in train_input_files\n",
    "    \n"
   ]
  }
 ],
 "metadata": {
  "kernelspec": {
   "display_name": "Python 3",
   "language": "python",
   "name": "python3"
  },
  "language_info": {
   "codemirror_mode": {
    "name": "ipython",
    "version": 3
   },
   "file_extension": ".py",
   "mimetype": "text/x-python",
   "name": "python",
   "nbconvert_exporter": "python",
   "pygments_lexer": "ipython3",
   "version": "3.7.7"
  }
 },
 "nbformat": 4,
 "nbformat_minor": 4
}
